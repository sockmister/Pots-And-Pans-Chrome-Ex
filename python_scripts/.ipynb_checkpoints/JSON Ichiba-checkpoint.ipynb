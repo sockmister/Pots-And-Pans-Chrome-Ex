{
 "metadata": {
  "name": "",
  "signature": "sha256:41ba61b3ba25260707ad2a924105fef9f5224ed1e8b1a08fb17ad533fd6cf08d"
 },
 "nbformat": 3,
 "nbformat_minor": 0,
 "worksheets": [
  {
   "cells": [
    {
     "cell_type": "markdown",
     "metadata": {},
     "source": [
      "Name: JSON Ichiba\n",
      "Date: Nov 2014\n",
      "Author: Pots & Pans\n",
      "\n",
      "\n",
      "\n",
      "Dependency (not yet completed): Read Dictionary - this script reads a csv file containing kitchen tools dictionary. \n",
      "\n",
      "Functions:\n",
      "print_json(kitchen_dictlist)\n",
      " -prints json to a text file\n",
      " -calls search_all\n",
      " -returns none\n",
      "\n",
      "search_oneitem(searchterm, genre)\n",
      " -returns structure with info for one item\n",
      " -doesn't use genre for now\n",
      "\n",
      "search_allitems(kitchen_dictlist)\n",
      " -calls search_oneitem() on all items\n",
      " -returns structure with info for all items\n",
      "\n",
      "\n"
     ]
    },
    {
     "cell_type": "code",
     "collapsed": false,
     "input": [
      "import json\n",
      "import requests\n",
      "import io\n",
      "import csv\n",
      "import time\n"
     ],
     "language": "python",
     "metadata": {},
     "outputs": [],
     "prompt_number": 63
    },
    {
     "cell_type": "code",
     "collapsed": false,
     "input": [
      "def search_oneitem(searchterm, searchterm_id): \n",
      "    app_id = 1076897669144252157\n",
      "    url = 'https://app.rakuten.co.jp/services/api/IchibaItem/Search/20140222'\n",
      "\n",
      "    #these are \"get parameters\"\n",
      "    options = {'format': 'json', 'keyword': searchterm, 'applicationId': app_id, 'formatversion': 2, \n",
      "       'elements': 'itemName,itemPrice,itemUrl,imageFlag,smallImageUrls,mediumImageUrls,availability'} \n",
      "    data = requests.get(url, params=options)\n",
      "    data = data.text\n",
      "    \n",
      "    \n",
      "    # load a json string into a collection of lists and dicts\n",
      "    data = json.loads(data)  \n",
      "   \n",
      "    links = [dict(item_name=data['Items'][i]['Item']['itemName'].encode('utf8'), \n",
      "                  price=data['Items'][i]['Item']['itemPrice'], \n",
      "                  url=data['Items'][i]['Item']['itemUrl'],\n",
      "                  has_image=data['Items'][i]['Item']['imageFlag'],\n",
      "                  small_image_urls=data['Items'][i]['Item']['smallImageUrls'],\n",
      "                  med_image_urls=data['Items'][i]['Item']['mediumImageUrls'],\n",
      "                  availability=data['Items'][i]['Item']['availability']) for i in range(0,2)]\n",
      "\n",
      "    search_link = \"http://search.rakuten.co.jp/search/mall/%s/\" %(searchterm)\n",
      "\n",
      "    oneitem_json = dict(Name= searchterm, ID= searchterm_id, Details= dict(search_link= search_link, links= links))\n",
      "    return oneitem_json\n"
     ],
     "language": "python",
     "metadata": {},
     "outputs": [],
     "prompt_number": 64
    },
    {
     "cell_type": "code",
     "collapsed": false,
     "input": [
      "#Old code but might revert back\n",
      "'''\n",
      "#Create our own json structure\n",
      "links = [dict(item_name=i['Item']['itemName'], \n",
      "      price=i['Item']['itemPrice'], \n",
      "      url=i['Item']['itemUrl'],\n",
      "      has_image=i['Item']['imageFlag'],\n",
      "      small_image_urls=i['Item']['smallImageUrls'],\n",
      "      med_image_urls=i['Item']['mediumImageUrls'],\n",
      "      availability=i['Item']['availability']) for i in data['Items']]\n",
      "'''\n"
     ],
     "language": "python",
     "metadata": {},
     "outputs": [
      {
       "metadata": {},
       "output_type": "pyout",
       "prompt_number": 65,
       "text": [
        "\"\\n#Create our own json structure\\nlinks = [dict(item_name=i['Item']['itemName'], \\n      price=i['Item']['itemPrice'], \\n      url=i['Item']['itemUrl'],\\n      has_image=i['Item']['imageFlag'],\\n      small_image_urls=i['Item']['smallImageUrls'],\\n      med_image_urls=i['Item']['mediumImageUrls'],\\n      availability=i['Item']['availability']) for i in data['Items']]\\n\""
       ]
      }
     ],
     "prompt_number": 65
    },
    {
     "cell_type": "code",
     "collapsed": false,
     "input": [
      "def search_allitems(kitch_list): \n",
      "    data = []\n",
      "    for t in kitch_list:\n",
      "        data.append(search_oneitem(t[0], t[1]))\n",
      "        time.sleep(1.02)\n",
      "    return data\n"
     ],
     "language": "python",
     "metadata": {},
     "outputs": [],
     "prompt_number": 66
    },
    {
     "cell_type": "code",
     "collapsed": false,
     "input": [
      "def print_json(kitch_list):\n",
      "    data = search_allitems(kitch_list) \n",
      "\n",
      "    #Print to a text file\n",
      "    with io.open('data.txt', 'wb') as outfile:\n",
      "        json.dump(data, outfile, indent=4, ensure_ascii=False)\n",
      "    return\n"
     ],
     "language": "python",
     "metadata": {},
     "outputs": [],
     "prompt_number": 67
    },
    {
     "cell_type": "code",
     "collapsed": false,
     "input": [
      "kitch_list = [\"\u5929\u677f\", \"\u7c89\u3075\u308b\u3044\u5668\", \"\u30dc\u30a6\u30eb\", \"\u30cf\u30f3\u30c9\u30df\u30ad\u30b5\u30fc\", \"\u30ca\u30a4\u30d5\"]\n",
      "\n"
     ],
     "language": "python",
     "metadata": {},
     "outputs": [],
     "prompt_number": 68
    },
    {
     "cell_type": "code",
     "collapsed": false,
     "input": [
      "def readin_searchlist():\n",
      "    kitch_list = []\n",
      "\n",
      "    with open('kitch_searchlist.txt', 'rb') as f:    \n",
      "        reader = csv.reader(f)\n",
      "        for row in reader:\n",
      "            kitch_list.append((row[0], row[1]))\n",
      "    return kitch_list\n"
     ],
     "language": "python",
     "metadata": {},
     "outputs": [],
     "prompt_number": 69
    },
    {
     "cell_type": "code",
     "collapsed": false,
     "input": [
      "kitch_list = readin_searchlist()\n",
      "print_json(kitch_list)\n"
     ],
     "language": "python",
     "metadata": {},
     "outputs": [],
     "prompt_number": 70
    },
    {
     "cell_type": "code",
     "collapsed": false,
     "input": [],
     "language": "python",
     "metadata": {},
     "outputs": [],
     "prompt_number": 70
    }
   ],
   "metadata": {}
  }
 ]
}