{
 "metadata": {
  "name": "",
  "signature": "sha256:68f800ff273563cc3cec9ace7063a3cb05a5b10434d45729d8b87d7d1f6ddd89"
 },
 "nbformat": 3,
 "nbformat_minor": 0,
 "worksheets": [
  {
   "cells": [
    {
     "cell_type": "markdown",
     "metadata": {},
     "source": [
      "Name: JSON Ichiba\n",
      "Date: Nov 2014\n",
      "Author: Pots & Pans\n",
      "\n",
      "\n",
      "\n",
      "Dependency (not yet completed): Read Dictionary - this script reads a csv file containing kitchen tools dictionary. \n",
      "\n",
      "Functions:\n",
      "print_json(kitchen_dictlist)\n",
      " -prints json to a text file\n",
      " -calls search_all\n",
      " -returns none\n",
      "\n",
      "search_oneitem(searchterm, genre)\n",
      " -returns structure with info for one item\n",
      " -doesn't use genre for now\n",
      "\n",
      "search_allitems(kitchen_dictlist)\n",
      " -calls search_oneitem() on all items\n",
      " -returns structure with info for all items\n",
      "\n",
      "\n"
     ]
    },
    {
     "cell_type": "code",
     "collapsed": false,
     "input": [
      "import json\n",
      "import requests"
     ],
     "language": "python",
     "metadata": {},
     "outputs": [],
     "prompt_number": 7
    },
    {
     "cell_type": "code",
     "collapsed": false,
     "input": [
      "import time"
     ],
     "language": "python",
     "metadata": {},
     "outputs": [],
     "prompt_number": 2
    },
    {
     "cell_type": "code",
     "collapsed": false,
     "input": [
      "\n",
      "\n",
      "\n",
      "def search_oneitem(searchterm): \n",
      "    app_id = 1076897669144252157\n",
      "    url = 'https://app.rakuten.co.jp/services/api/IchibaItem/Search/20140222'\n",
      "\n",
      "    #these are \"get parameters\"\n",
      "    options = {'format': 'json', 'keyword': searchterm, 'applicationId': app_id, 'formatversion': 2, \n",
      "       'elements': 'itemName,itemPrice,itemUrl,imageFlag,smallImageUrls,mediumImageUrls,availability'} \n",
      "    data = requests.get(url, params=options)\n",
      "    data = data.text\n",
      "    \n",
      "    \n",
      "    # load a json string into a collection of lists and dicts\n",
      "    data = json.loads(data)  \n",
      "    #print data\n",
      "    \n",
      "    #print 'PRINTING AVAILABILITY:  ' + str(data['Items'][0]['Item']['availability'])\n",
      "\n",
      "\n",
      "    links = [dict(item_name=data['Items'][i]['Item']['itemName'], \n",
      "                  price=data['Items'][i]['Item']['itemPrice'], \n",
      "                  url=data['Items'][i]['Item']['itemUrl'],\n",
      "                  has_image=data['Items'][i]['Item']['imageFlag'],\n",
      "                  small_image_urls=data['Items'][i]['Item']['smallImageUrls'],\n",
      "                  med_image_urls=data['Items'][i]['Item']['mediumImageUrls'],\n",
      "                  availability=data['Items'][i]['Item']['availability']) for i in range(0,2)]\n",
      "\n",
      "    search_link = \"http://search.rakuten.co.jp/search/mall/%s/\" %(searchterm)\n",
      "\n",
      "    oneitem_json = dict(Name= searchterm, Details= dict(search_link= search_link, links= links))\n",
      "    return oneitem_json\n",
      "    \n",
      "    #print json.dumps(data, indent=2)\n",
      "    #print json.dumps(oneitem_json, indent=2)"
     ],
     "language": "python",
     "metadata": {},
     "outputs": [],
     "prompt_number": 5
    },
    {
     "cell_type": "code",
     "collapsed": false,
     "input": [
      "\n",
      "\n",
      "#Old code but might revert back\n",
      "'''\n",
      "     Create our own json structure\n",
      "    links = [dict(item_name=i['Item']['itemName'], \n",
      "          price=i['Item']['itemPrice'], \n",
      "          url=i['Item']['itemUrl'],\n",
      "          has_image=i['Item']['imageFlag'],\n",
      "          small_image_urls=i['Item']['smallImageUrls'],\n",
      "          med_image_urls=i['Item']['mediumImageUrls'],\n",
      "          availability=i['Item']['availability']) for i in data['Items']]\n",
      "'''\n"
     ],
     "language": "python",
     "metadata": {},
     "outputs": []
    },
    {
     "cell_type": "code",
     "collapsed": false,
     "input": [],
     "language": "python",
     "metadata": {},
     "outputs": [],
     "prompt_number": 12
    },
    {
     "cell_type": "code",
     "collapsed": false,
     "input": [
      "#kitch_list = [\"\u5929\u677f\", \"\u7c89\u3075\u308b\u3044\u5668\", \"\u30dc\u30a6\u30eb\", \"\u30cf\u30f3\u30c9\u30df\u30ad\u30b5\u30fc\", \"\u30ca\u30a4\u30d5\"]\n",
      "kitch_list = [\"\u7c89\u3075\u308b\u3044\u5668\", \"\u30dc\u30a6\u30eb\", \"\u30ca\u30a4\u30d5\", \"\u30cf\u30f3\u30c9\u30df\u30ad\u30b5\u30fc\"]\n"
     ],
     "language": "python",
     "metadata": {},
     "outputs": [],
     "prompt_number": 3
    },
    {
     "cell_type": "code",
     "collapsed": false,
     "input": [
      "\n",
      "#data = [search_oneitem(t) for t in kitch_list]\n",
      "\n",
      "'''Testing code\n",
      "for t in kitch_list:\n",
      "    print t\n",
      "    print search_oneitem(t)\n",
      "    time.sleep(1.1)\n",
      "'''\n",
      "\n",
      "def search_allitems(kitch_list): \n",
      "    data = []\n",
      "    for t in kitch_list:\n",
      "        data.append(search_oneitem(t))\n",
      "        time.sleep(1.02)\n",
      "    return data\n",
      "\n"
     ],
     "language": "python",
     "metadata": {},
     "outputs": [],
     "prompt_number": 11
    },
    {
     "cell_type": "code",
     "collapsed": false,
     "input": [],
     "language": "python",
     "metadata": {},
     "outputs": [],
     "prompt_number": 9
    },
    {
     "cell_type": "code",
     "collapsed": false,
     "input": [
      "data = search_allitems(kitch_list) \n",
      "print json.dumps(data, indent=2)"
     ],
     "language": "python",
     "metadata": {},
     "outputs": [
      {
       "output_type": "stream",
       "stream": "stdout",
       "text": [
        "[\n",
        "  {\n",
        "    \"Details\": {\n",
        "      \"search_link\": \"http://search.rakuten.co.jp/search/mall/\\u7c89\\u3075\\u308b\\u3044\\u5668/\", \n",
        "      \"links\": [\n",
        "        {\n",
        "          \"item_name\": \"\\u30bf\\u30a4\\u30ac\\u30fc\\u30af\\u30e9\\u30a6\\u30f3 \\u30e9\\u30a4\\u30f3\\u30b7\\u30d5\\u30bf\\u30fc\\uff08\\u7c89\\u3075\\u308b\\u3044\\u5668\\uff09\\u3010RCP\\u3011\", \n",
        "          \"has_image\": 1, \n",
        "          \"url\": \"http://item.rakuten.co.jp/goodlife/10004919/\", \n",
        "          \"price\": 906, \n",
        "          \"med_image_urls\": [\n",
        "            {\n",
        "              \"imageUrl\": \"http://thumbnail.image.rakuten.co.jp/@0_mall/goodlife/cabinet/itemgs1/a21928.jpg?_ex=128x128\"\n",
        "            }, \n",
        "            {\n",
        "              \"imageUrl\": \"http://thumbnail.image.rakuten.co.jp/@0_mall/goodlife/cabinet/itemgs1/a21928a.jpg?_ex=128x128\"\n",
        "            }\n",
        "          ], \n",
        "          \"small_image_urls\": [\n",
        "            {\n",
        "              \"imageUrl\": \"http://thumbnail.image.rakuten.co.jp/@0_mall/goodlife/cabinet/itemgs1/a21928.jpg?_ex=64x64\"\n",
        "            }, \n",
        "            {\n",
        "              \"imageUrl\": \"http://thumbnail.image.rakuten.co.jp/@0_mall/goodlife/cabinet/itemgs1/a21928a.jpg?_ex=64x64\"\n",
        "            }\n",
        "          ], \n",
        "          \"availability\": 1\n",
        "        }, \n",
        "        {\n",
        "          \"item_name\": \"\\u30e9\\u30a4\\u30f3\\u30b7\\u30d5\\u30bf\\u30fc\\u3000\\uff08\\u7c89\\u3075\\u308b\\u3044\\u5668\\uff09\", \n",
        "          \"has_image\": 1, \n",
        "          \"url\": \"http://item.rakuten.co.jp/majimaya/tg1687/\", \n",
        "          \"price\": 914, \n",
        "          \"med_image_urls\": [\n",
        "            {\n",
        "              \"imageUrl\": \"http://thumbnail.image.rakuten.co.jp/@0_mall/majimaya/cabinet/02000252/02304408/6215335.jpg?_ex=128x128\"\n",
        "            }, \n",
        "            {\n",
        "              \"imageUrl\": \"http://thumbnail.image.rakuten.co.jp/@0_mall/majimaya/cabinet/02000252/02304408/6215336.jpg?_ex=128x128\"\n",
        "            }, \n",
        "            {\n",
        "              \"imageUrl\": \"http://thumbnail.image.rakuten.co.jp/@0_mall/majimaya/cabinet/02000252/02304408/6215337.jpg?_ex=128x128\"\n",
        "            }\n",
        "          ], \n",
        "          \"small_image_urls\": [\n",
        "            {\n",
        "              \"imageUrl\": \"http://thumbnail.image.rakuten.co.jp/@0_mall/majimaya/cabinet/02000252/02304408/6215335.jpg?_ex=64x64\"\n",
        "            }, \n",
        "            {\n",
        "              \"imageUrl\": \"http://thumbnail.image.rakuten.co.jp/@0_mall/majimaya/cabinet/02000252/02304408/6215336.jpg?_ex=64x64\"\n",
        "            }, \n",
        "            {\n",
        "              \"imageUrl\": \"http://thumbnail.image.rakuten.co.jp/@0_mall/majimaya/cabinet/02000252/02304408/6215337.jpg?_ex=64x64\"\n",
        "            }\n",
        "          ], \n",
        "          \"availability\": 1\n",
        "        }\n",
        "      ]\n",
        "    }, \n",
        "    \"Name\": \"\\u7c89\\u3075\\u308b\\u3044\\u5668\"\n",
        "  }, \n",
        "  {\n",
        "    \"Details\": {\n",
        "      \"search_link\": \"http://search.rakuten.co.jp/search/mall/\\u30dc\\u30a6\\u30eb/\", \n",
        "      \"links\": [\n",
        "        {\n",
        "          \"item_name\": \"\\u30a4\\u30c3\\u30bf\\u30e9\\uff08iittala\\uff09\\u30ab\\u30b9\\u30c6\\u30d8\\u30eb\\u30df\\uff08Kastehelmi\\uff09\\u30dc\\u30a6\\u30eb230ml\\u30b0\\u30ec\\u30a4\\uff08\\u30b0\\u30ec\\u30fc\\uff092\\u500b\\u30bb\\u30c3\\u30c8\\u203b\\u767d\\u7121\\u5730BOX\\u53ef\\u300c\\u7740\\u5f8c\\u30ec\\u30d3\\u30e5\\u30fc\\u3067\\u5272\\u5f15\\u300d\", \n",
        "          \"has_image\": 1, \n",
        "          \"url\": \"http://item.rakuten.co.jp/markshop/951139/\", \n",
        "          \"price\": 3564, \n",
        "          \"med_image_urls\": [\n",
        "            {\n",
        "              \"imageUrl\": \"http://thumbnail.image.rakuten.co.jp/@0_mall/markshop/cabinet/iittala/kastehelmi/5926x2.jpg?_ex=128x128\"\n",
        "            }, \n",
        "            {\n",
        "              \"imageUrl\": \"http://thumbnail.image.rakuten.co.jp/@0_mall/markshop/cabinet/iittala/kastehelmi/box_kaste4.jpg?_ex=128x128\"\n",
        "            }, \n",
        "            {\n",
        "              \"imageUrl\": \"http://thumbnail.image.rakuten.co.jp/@0_mall/markshop/cabinet/iittala/kastehelmi/bowl-attention-1.jpg?_ex=128x128\"\n",
        "            }\n",
        "          ], \n",
        "          \"small_image_urls\": [\n",
        "            {\n",
        "              \"imageUrl\": \"http://thumbnail.image.rakuten.co.jp/@0_mall/markshop/cabinet/iittala/kastehelmi/5926x2.jpg?_ex=64x64\"\n",
        "            }, \n",
        "            {\n",
        "              \"imageUrl\": \"http://thumbnail.image.rakuten.co.jp/@0_mall/markshop/cabinet/iittala/kastehelmi/box_kaste4.jpg?_ex=64x64\"\n",
        "            }, \n",
        "            {\n",
        "              \"imageUrl\": \"http://thumbnail.image.rakuten.co.jp/@0_mall/markshop/cabinet/iittala/kastehelmi/bowl-attention-1.jpg?_ex=64x64\"\n",
        "            }\n",
        "          ], \n",
        "          \"availability\": 1\n",
        "        }, \n",
        "        {\n",
        "          \"item_name\": \"\\u30a4\\u30c3\\u30bf\\u30e9\\uff08iittala\\uff09\\u3000\\u30ab\\u30b9\\u30c6\\u30d8\\u30eb\\u30df\\uff08Kastehelmi\\uff09\\u3000\\u30dc\\u30a6\\u30eb230ml\\u3000\\u30af\\u30ea\\u30a2\\u30002\\u500b\\u30bb\\u30c3\\u30c8\\u203b\\u767d\\u7121\\u5730BOX\\u53ef\\u300c\\u7740\\u5f8c\\u30ec\\u30d3\\u30e5\\u30fc\\u3067\\u5272\\u5f15\\u300d\", \n",
        "          \"has_image\": 1, \n",
        "          \"url\": \"http://item.rakuten.co.jp/markshop/10013198/\", \n",
        "          \"price\": 3510, \n",
        "          \"med_image_urls\": [\n",
        "            {\n",
        "              \"imageUrl\": \"http://thumbnail.image.rakuten.co.jp/@0_mall/markshop/cabinet/iittala/kastehelmi/940_original_box1.jpg?_ex=128x128\"\n",
        "            }, \n",
        "            {\n",
        "              \"imageUrl\": \"http://thumbnail.image.rakuten.co.jp/@0_mall/markshop/cabinet/iittala/kastehelmi/bowl-attention-1.jpg?_ex=128x128\"\n",
        "            }, \n",
        "            {\n",
        "              \"imageUrl\": \"http://thumbnail.image.rakuten.co.jp/@0_mall/markshop/cabinet/iittala/kastehelmi/box_kaste4.jpg?_ex=128x128\"\n",
        "            }\n",
        "          ], \n",
        "          \"small_image_urls\": [\n",
        "            {\n",
        "              \"imageUrl\": \"http://thumbnail.image.rakuten.co.jp/@0_mall/markshop/cabinet/iittala/kastehelmi/940_original_box1.jpg?_ex=64x64\"\n",
        "            }, \n",
        "            {\n",
        "              \"imageUrl\": \"http://thumbnail.image.rakuten.co.jp/@0_mall/markshop/cabinet/iittala/kastehelmi/bowl-attention-1.jpg?_ex=64x64\"\n",
        "            }, \n",
        "            {\n",
        "              \"imageUrl\": \"http://thumbnail.image.rakuten.co.jp/@0_mall/markshop/cabinet/iittala/kastehelmi/box_kaste4.jpg?_ex=64x64\"\n",
        "            }\n",
        "          ], \n",
        "          \"availability\": 1\n",
        "        }\n",
        "      ]\n",
        "    }, \n",
        "    \"Name\": \"\\u30dc\\u30a6\\u30eb\"\n",
        "  }, \n",
        "  {\n",
        "    \"Details\": {\n",
        "      \"search_link\": \"http://search.rakuten.co.jp/search/mall/\\u30ca\\u30a4\\u30d5/\", \n",
        "      \"links\": [\n",
        "        {\n",
        "          \"item_name\": \"\\u30ec\\u30b6\\u30fc\\u30de\\u30f3 \\u30b9\\u30af\\u30a9\\u30fc\\u30c8PS4 [\\u30ec\\u30c3\\u30c9] Leatherman \\u30ca\\u30a4\\u30d5\\uff06\\u30c4\\u30fc\\u30eb \\u30df\\u30cb\\u30d7\\u30e9\\u30a4\\u30e4\\u30fc \\u30d6\\u30e9\\u30c3\\u30af SquirtPS4 \\u30da\\u30f3\\u30c1 \\u643a\\u5e2f\\u5de5\\u5177 \\u30de\\u30eb\\u30c1\\u30c4\\u30fc\\u30eb\\u30ca\\u30a4\\u30d5 \\u5341\\u5fb3\\u30ca\\u30a4\\u30d5 \\u5341\\u5f97\\u30ca\\u30a4\\u30d5 \\u4e07\\u80fd\\u30ca\\u30a4\\u30d5 \\u30b5\\u30d0\\u30a4\\u30d0\\u30eb\\u30c4\\u30fc\\u30eb \\u30b9\\u30dd\\u30fc\\u30c4 \\u30a2\\u30a6\\u30c8\\u30c9\\u30a2 \\u30df\\u30ea\\u30bf\\u30ea\\u30fc \\u30db\\u30d3\\u30fc \\u96d1\\u8ca8 \\u30bb\\u30fc\\u30eb sale\", \n",
        "          \"has_image\": 1, \n",
        "          \"url\": \"http://item.rakuten.co.jp/digisto/lmps4r/\", \n",
        "          \"price\": 3579, \n",
        "          \"med_image_urls\": [\n",
        "            {\n",
        "              \"imageUrl\": \"http://thumbnail.image.rakuten.co.jp/@0_mall/digisto/cabinet/c15/1_lmps4r_600.jpg?_ex=128x128\"\n",
        "            }, \n",
        "            {\n",
        "              \"imageUrl\": \"http://thumbnail.image.rakuten.co.jp/@0_mall/digisto/cabinet/c15/2_lmps4r_600.jpg?_ex=128x128\"\n",
        "            }, \n",
        "            {\n",
        "              \"imageUrl\": \"http://thumbnail.image.rakuten.co.jp/@0_mall/digisto/cabinet/c15/3_lmps4r_600.jpg?_ex=128x128\"\n",
        "            }\n",
        "          ], \n",
        "          \"small_image_urls\": [\n",
        "            {\n",
        "              \"imageUrl\": \"http://thumbnail.image.rakuten.co.jp/@0_mall/digisto/cabinet/c15/1_lmps4r_600.jpg?_ex=64x64\"\n",
        "            }, \n",
        "            {\n",
        "              \"imageUrl\": \"http://thumbnail.image.rakuten.co.jp/@0_mall/digisto/cabinet/c15/2_lmps4r_600.jpg?_ex=64x64\"\n",
        "            }, \n",
        "            {\n",
        "              \"imageUrl\": \"http://thumbnail.image.rakuten.co.jp/@0_mall/digisto/cabinet/c15/3_lmps4r_600.jpg?_ex=64x64\"\n",
        "            }\n",
        "          ], \n",
        "          \"availability\": 1\n",
        "        }, \n",
        "        {\n",
        "          \"item_name\": \"CL\\u30b7\\u30d5\\u30a9\\u30f3\\u30ca\\u30a4\\u30d5\\u3000\\u3010ddd\\u3011\", \n",
        "          \"has_image\": 1, \n",
        "          \"url\": \"http://item.rakuten.co.jp/asai-tool/yk-0585/\", \n",
        "          \"price\": 685, \n",
        "          \"med_image_urls\": [\n",
        "            {\n",
        "              \"imageUrl\": \"http://thumbnail.image.rakuten.co.jp/@0_mall/asai-tool/cabinet/0585-1.jpg?_ex=128x128\"\n",
        "            }\n",
        "          ], \n",
        "          \"small_image_urls\": [\n",
        "            {\n",
        "              \"imageUrl\": \"http://thumbnail.image.rakuten.co.jp/@0_mall/asai-tool/cabinet/0585-1.jpg?_ex=64x64\"\n",
        "            }\n",
        "          ], \n",
        "          \"availability\": 1\n",
        "        }\n",
        "      ]\n",
        "    }, \n",
        "    \"Name\": \"\\u30ca\\u30a4\\u30d5\"\n",
        "  }, \n",
        "  {\n",
        "    \"Details\": {\n",
        "      \"search_link\": \"http://search.rakuten.co.jp/search/mall/\\u30cf\\u30f3\\u30c9\\u30df\\u30ad\\u30b5\\u30fc/\", \n",
        "      \"links\": [\n",
        "        {\n",
        "          \"item_name\": \"\\u3010\\u30ec\\u30d3\\u30e5\\u30fc\\u3067\\u5272\\u5f15\\u30115\\u6bb5\\u968e\\u8abf\\u7bc0\\u6a5f\\u80fd\\u4ed8\\u304d \\u96fb\\u52d5\\u30cf\\u30f3\\u30c9\\u30df\\u30ad\\u30b5\\u30fc\\uff08\\u30d7\\u30e9\\u30d3\\u30fc\\u30bf\\u30fc\\uff09\\u2605\\u30ec\\u30d3\\u30e5\\u30fc\\u5272\\u5f15\\u30ad\\u30e3\\u30f3\\u30da\\u30fc\\u30f3!\\u2605\\u5230\\u7740\\u5f8c\\u30ec\\u30d3\\u30e5\\u30fc\\u3044\\u305f\\u3060\\u3051\\u308b\\u65b9\\u306f\\u8868\\u793a\\u30ad\\u30e3\\u30f3\\u30da\\u30fc\\u30f3\\u4fa1\\u683c\\u3067\\u3054\\u63d0\\u4f9b!\\u3010RCP\\u3011\", \n",
        "          \"has_image\": 1, \n",
        "          \"url\": \"http://item.rakuten.co.jp/goodlifeshop/pd-1120/\", \n",
        "          \"price\": 1080, \n",
        "          \"med_image_urls\": [\n",
        "            {\n",
        "              \"imageUrl\": \"http://thumbnail.image.rakuten.co.jp/@0_mall/goodlifeshop/cabinet/kitchen3/d1088-08.jpg?_ex=128x128\"\n",
        "            }\n",
        "          ], \n",
        "          \"small_image_urls\": [\n",
        "            {\n",
        "              \"imageUrl\": \"http://thumbnail.image.rakuten.co.jp/@0_mall/goodlifeshop/cabinet/kitchen3/d1088-08.jpg?_ex=64x64\"\n",
        "            }\n",
        "          ], \n",
        "          \"availability\": 1\n",
        "        }, \n",
        "        {\n",
        "          \"item_name\": \"\\u3010\\u9001\\u6599\\u7121\\u6599\\u3011\\u3010\\u798f\\u888b\\u3011\\u30cf\\u30f3\\u30c9\\u30df\\u30ad\\u30b5\\u30fc\\u304c\\u4ed8\\u3044\\u305f\\uff01\\uff01 \\u4e2d\\u8eab\\u306e\\u898b\\u3048\\u308b\\u304a\\u83d3\\u5b50\\u4f5c\\u308a\\u9053\\u5177\\u306e\\u798f\\u888b\\u3010\\u8c9d\\u5370\\u3011\", \n",
        "          \"has_image\": 1, \n",
        "          \"url\": \"http://item.rakuten.co.jp/kai/fb-0003/\", \n",
        "          \"price\": 2980, \n",
        "          \"med_image_urls\": [\n",
        "            {\n",
        "              \"imageUrl\": \"http://thumbnail.image.rakuten.co.jp/@0_mall/kai/cabinet/00541387/03221171/ss0009_ws4.jpg?_ex=128x128\"\n",
        "            }, \n",
        "            {\n",
        "              \"imageUrl\": \"http://thumbnail.image.rakuten.co.jp/@0_mall/kai/cabinet/bythink/hansetu2.jpg?_ex=128x128\"\n",
        "            }\n",
        "          ], \n",
        "          \"small_image_urls\": [\n",
        "            {\n",
        "              \"imageUrl\": \"http://thumbnail.image.rakuten.co.jp/@0_mall/kai/cabinet/00541387/03221171/ss0009_ws4.jpg?_ex=64x64\"\n",
        "            }, \n",
        "            {\n",
        "              \"imageUrl\": \"http://thumbnail.image.rakuten.co.jp/@0_mall/kai/cabinet/bythink/hansetu2.jpg?_ex=64x64\"\n",
        "            }\n",
        "          ], \n",
        "          \"availability\": 1\n",
        "        }\n",
        "      ]\n",
        "    }, \n",
        "    \"Name\": \"\\u30cf\\u30f3\\u30c9\\u30df\\u30ad\\u30b5\\u30fc\"\n",
        "  }\n",
        "]\n"
       ]
      }
     ],
     "prompt_number": 13
    },
    {
     "cell_type": "code",
     "collapsed": false,
     "input": [
      "\n",
      "#Print to a text file\n",
      "with open('data.txt', 'w') as outfile:\n",
      "  json.dump(data, outfile, indent=2)"
     ],
     "language": "python",
     "metadata": {},
     "outputs": []
    }
   ],
   "metadata": {}
  }
 ]
}